{
 "cells": [
  {
   "cell_type": "markdown",
   "metadata": {},
   "source": [
    "# Basics"
   ]
  },
  {
   "cell_type": "code",
   "execution_count": null,
   "metadata": {},
   "outputs": [],
   "source": [
    "# Import necessary libraries\n",
    "import nltk\n",
    "from nltk.tokenize import word_tokenize, sent_tokenize\n",
    "from nltk.corpus import stopwords\n",
    "from nltk.probability import FreqDist\n",
    "from nltk.stem import PorterStemmer\n",
    "from nltk.stem import WordNetLemmatizer\n",
    "\n",
    "# Download necessary NLTK data files\n",
    "nltk.download('punkt')\n",
    "nltk.download('stopwords')\n",
    "nltk.download('wordnet')\n",
    "\n",
    "# Sample text for demonstration\n",
    "sample_text = \"\"\"\n",
    "Natural language processing (NLP) is a field of artificial intelligence in which computers analyze, understand, and derive meaning from human language in a smart and useful way. By utilizing NLP, developers can organize and structure knowledge to perform tasks such as automatic summarization, translation, named entity recognition, relationship extraction, sentiment analysis, speech recognition, and topic segmentation.\n",
    "\"\"\""
   ]
  },
  {
   "cell_type": "code",
   "execution_count": 2,
   "metadata": {},
   "outputs": [
    {
     "data": {
      "text/plain": [
       "['Natural',\n",
       " 'language',\n",
       " 'processing',\n",
       " '(',\n",
       " 'NLP',\n",
       " ')',\n",
       " 'is',\n",
       " 'a',\n",
       " 'field',\n",
       " 'of',\n",
       " 'artificial',\n",
       " 'intelligence',\n",
       " 'in',\n",
       " 'which',\n",
       " 'computers',\n",
       " 'analyze',\n",
       " ',',\n",
       " 'understand',\n",
       " ',',\n",
       " 'and',\n",
       " 'derive',\n",
       " 'meaning',\n",
       " 'from',\n",
       " 'human',\n",
       " 'language',\n",
       " 'in',\n",
       " 'a',\n",
       " 'smart',\n",
       " 'and',\n",
       " 'useful',\n",
       " 'way',\n",
       " '.',\n",
       " 'By',\n",
       " 'utilizing',\n",
       " 'NLP',\n",
       " ',',\n",
       " 'developers',\n",
       " 'can',\n",
       " 'organize',\n",
       " 'and',\n",
       " 'structure',\n",
       " 'knowledge',\n",
       " 'to',\n",
       " 'perform',\n",
       " 'tasks',\n",
       " 'such',\n",
       " 'as',\n",
       " 'automatic',\n",
       " 'summarization',\n",
       " ',',\n",
       " 'translation',\n",
       " ',',\n",
       " 'named',\n",
       " 'entity',\n",
       " 'recognition',\n",
       " ',',\n",
       " 'relationship',\n",
       " 'extraction',\n",
       " ',',\n",
       " 'sentiment',\n",
       " 'analysis',\n",
       " ',',\n",
       " 'speech',\n",
       " 'recognition',\n",
       " ',',\n",
       " 'and',\n",
       " 'topic',\n",
       " 'segmentation',\n",
       " '.']"
      ]
     },
     "execution_count": 2,
     "metadata": {},
     "output_type": "execute_result"
    }
   ],
   "source": [
    "word_tokens = word_tokenize(sample_text)\n",
    "word_tokens"
   ]
  },
  {
   "cell_type": "code",
   "execution_count": 3,
   "metadata": {},
   "outputs": [
    {
     "data": {
      "text/plain": [
       "['\\nNatural language processing (NLP) is a field of artificial intelligence in which computers analyze, understand, and derive meaning from human language in a smart and useful way.',\n",
       " 'By utilizing NLP, developers can organize and structure knowledge to perform tasks such as automatic summarization, translation, named entity recognition, relationship extraction, sentiment analysis, speech recognition, and topic segmentation.']"
      ]
     },
     "execution_count": 3,
     "metadata": {},
     "output_type": "execute_result"
    }
   ],
   "source": [
    "sent_tokens = sent_tokenize(sample_text)\n",
    "sent_tokens"
   ]
  },
  {
   "cell_type": "code",
   "execution_count": 4,
   "metadata": {},
   "outputs": [
    {
     "data": {
      "text/plain": [
       "['Natural',\n",
       " 'language',\n",
       " 'processing',\n",
       " '(',\n",
       " 'NLP',\n",
       " ')',\n",
       " 'field',\n",
       " 'artificial',\n",
       " 'intelligence',\n",
       " 'computers',\n",
       " 'analyze',\n",
       " ',',\n",
       " 'understand',\n",
       " ',',\n",
       " 'derive',\n",
       " 'meaning',\n",
       " 'human',\n",
       " 'language',\n",
       " 'smart',\n",
       " 'useful',\n",
       " 'way',\n",
       " '.',\n",
       " 'utilizing',\n",
       " 'NLP',\n",
       " ',',\n",
       " 'developers',\n",
       " 'organize',\n",
       " 'structure',\n",
       " 'knowledge',\n",
       " 'perform',\n",
       " 'tasks',\n",
       " 'automatic',\n",
       " 'summarization',\n",
       " ',',\n",
       " 'translation',\n",
       " ',',\n",
       " 'named',\n",
       " 'entity',\n",
       " 'recognition',\n",
       " ',',\n",
       " 'relationship',\n",
       " 'extraction',\n",
       " ',',\n",
       " 'sentiment',\n",
       " 'analysis',\n",
       " ',',\n",
       " 'speech',\n",
       " 'recognition',\n",
       " ',',\n",
       " 'topic',\n",
       " 'segmentation',\n",
       " '.']"
      ]
     },
     "execution_count": 4,
     "metadata": {},
     "output_type": "execute_result"
    }
   ],
   "source": [
    "stop_words = set(stopwords.words(\"english\"))\n",
    "useful_words = [word for word in word_tokens if word.lower() not in stop_words]\n",
    "useful_words"
   ]
  },
  {
   "cell_type": "code",
   "execution_count": 5,
   "metadata": {},
   "outputs": [
    {
     "data": {
      "text/plain": [
       "['Natural',\n",
       " 'language',\n",
       " 'processing',\n",
       " 'NLP',\n",
       " 'field',\n",
       " 'artificial',\n",
       " 'intelligence',\n",
       " 'computers',\n",
       " 'analyze',\n",
       " 'understand',\n",
       " 'derive',\n",
       " 'meaning',\n",
       " 'human',\n",
       " 'language',\n",
       " 'smart',\n",
       " 'useful',\n",
       " 'way',\n",
       " 'utilizing',\n",
       " 'NLP',\n",
       " 'developers',\n",
       " 'organize',\n",
       " 'structure',\n",
       " 'knowledge',\n",
       " 'perform',\n",
       " 'tasks',\n",
       " 'automatic',\n",
       " 'summarization',\n",
       " 'translation',\n",
       " 'named',\n",
       " 'entity',\n",
       " 'recognition',\n",
       " 'relationship',\n",
       " 'extraction',\n",
       " 'sentiment',\n",
       " 'analysis',\n",
       " 'speech',\n",
       " 'recognition',\n",
       " 'topic',\n",
       " 'segmentation']"
      ]
     },
     "execution_count": 5,
     "metadata": {},
     "output_type": "execute_result"
    }
   ],
   "source": [
    "punctuation_marks = {\".\", \",\", \"(\", \")\", \"``\", \"''\", \"'\", \"!\", \"?\", \":\", \";\", \"-\", \"--\"}\n",
    "extended_stop_words = stop_words.union(punctuation_marks)\n",
    "useful_words = [word for word in word_tokens if word.lower() not in extended_stop_words]\n",
    "useful_words"
   ]
  },
  {
   "cell_type": "code",
   "execution_count": 6,
   "metadata": {},
   "outputs": [
    {
     "data": {
      "text/plain": [
       "(69, 39)"
      ]
     },
     "execution_count": 6,
     "metadata": {},
     "output_type": "execute_result"
    }
   ],
   "source": [
    "len(word_tokens), len(useful_words)"
   ]
  },
  {
   "cell_type": "code",
   "execution_count": 7,
   "metadata": {},
   "outputs": [
    {
     "name": "stdout",
     "output_type": "stream",
     "text": [
      "natur languag process nlp field artifici intellig comput analyz understand deriv mean human languag smart use way util nlp develop organ structur knowledg perform task automat summar translat name entiti recognit relationship extract sentiment analysi speech recognit topic segment\n"
     ]
    }
   ],
   "source": [
    "stemmer = PorterStemmer()\n",
    "stemmed_words = [stemmer.stem(word) for word in useful_words]\n",
    "print(\" \".join(stemmed_words))"
   ]
  },
  {
   "cell_type": "code",
   "execution_count": 8,
   "metadata": {},
   "outputs": [
    {
     "name": "stdout",
     "output_type": "stream",
     "text": [
      "Natural language processing NLP field artificial intelligence computer analyze understand derive meaning human language smart useful way utilizing NLP developer organize structure knowledge perform task automatic summarization translation named entity recognition relationship extraction sentiment analysis speech recognition topic segmentation\n"
     ]
    }
   ],
   "source": [
    "lemmatizer = WordNetLemmatizer()\n",
    "lemmatized_words = [lemmatizer.lemmatize(word) for word in useful_words]\n",
    "print(\" \".join(lemmatized_words))"
   ]
  },
  {
   "cell_type": "markdown",
   "metadata": {},
   "source": [
    "# Part of Speech (PoS) Tagging and Named-Entity Recognition (NER)"
   ]
  },
  {
   "cell_type": "code",
   "execution_count": 1,
   "metadata": {},
   "outputs": [],
   "source": [
    "import spacy\n",
    "\n",
    "sample_text = \"\"\"\n",
    "Natural language processing (NLP) is a field of artificial intelligence in which computers analyze, understand, and derive meaning from human language in a smart and useful way. By utilizing NLP, developers can organize and structure knowledge to perform tasks such as automatic summarization, translation, named entity recognition, relationship extraction, sentiment analysis, speech recognition, and topic segmentation.\n",
    "\"\"\""
   ]
  },
  {
   "cell_type": "code",
   "execution_count": 4,
   "metadata": {},
   "outputs": [],
   "source": [
    "spacy_nlp = spacy.load(\"en_core_web_sm\")"
   ]
  },
  {
   "cell_type": "code",
   "execution_count": 6,
   "metadata": {},
   "outputs": [
    {
     "name": "stdout",
     "output_type": "stream",
     "text": [
      "1.) \n",
      ": SPACE\n",
      "2.) Natural: ADJ\n",
      "3.) language: NOUN\n",
      "4.) processing: NOUN\n",
      "5.) (: PUNCT\n",
      "6.) NLP: PROPN\n",
      "7.) ): PUNCT\n",
      "8.) is: AUX\n",
      "9.) a: DET\n",
      "10.) field: NOUN\n",
      "11.) of: ADP\n",
      "12.) artificial: ADJ\n",
      "13.) intelligence: NOUN\n",
      "14.) in: ADP\n",
      "15.) which: PRON\n",
      "16.) computers: NOUN\n",
      "17.) analyze: VERB\n",
      "18.) ,: PUNCT\n",
      "19.) understand: VERB\n",
      "20.) ,: PUNCT\n",
      "21.) and: CCONJ\n",
      "22.) derive: VERB\n",
      "23.) meaning: NOUN\n",
      "24.) from: ADP\n",
      "25.) human: ADJ\n",
      "26.) language: NOUN\n",
      "27.) in: ADP\n",
      "28.) a: DET\n",
      "29.) smart: ADJ\n",
      "30.) and: CCONJ\n",
      "31.) useful: ADJ\n",
      "32.) way: NOUN\n",
      "33.) .: PUNCT\n",
      "34.) By: ADP\n",
      "35.) utilizing: VERB\n",
      "36.) NLP: PROPN\n",
      "37.) ,: PUNCT\n",
      "38.) developers: NOUN\n",
      "39.) can: AUX\n",
      "40.) organize: VERB\n",
      "41.) and: CCONJ\n",
      "42.) structure: VERB\n",
      "43.) knowledge: NOUN\n",
      "44.) to: PART\n",
      "45.) perform: VERB\n",
      "46.) tasks: NOUN\n",
      "47.) such: ADJ\n",
      "48.) as: ADP\n",
      "49.) automatic: ADJ\n",
      "50.) summarization: NOUN\n",
      "51.) ,: PUNCT\n",
      "52.) translation: NOUN\n",
      "53.) ,: PUNCT\n",
      "54.) named: VERB\n",
      "55.) entity: NOUN\n",
      "56.) recognition: NOUN\n",
      "57.) ,: PUNCT\n",
      "58.) relationship: NOUN\n",
      "59.) extraction: NOUN\n",
      "60.) ,: PUNCT\n",
      "61.) sentiment: NOUN\n",
      "62.) analysis: NOUN\n",
      "63.) ,: PUNCT\n",
      "64.) speech: NOUN\n",
      "65.) recognition: NOUN\n",
      "66.) ,: PUNCT\n",
      "67.) and: CCONJ\n",
      "68.) topic: NOUN\n",
      "69.) segmentation: NOUN\n",
      "70.) .: PUNCT\n",
      "71.) \n",
      ": SPACE\n",
      "\n",
      "\n",
      "1.) NLP: ORG\n",
      "2.) NLP: ORG\n"
     ]
    }
   ],
   "source": [
    "doc = spacy_nlp(sample_text)\n",
    "\n",
    "# Part of Speech (PoS) Tagging\n",
    "for i, token in enumerate(doc):\n",
    "    print(f\"{i+1}.) {token.text}: {token.pos_}\")\n",
    "\n",
    "print(\"\\n\")\n",
    "\n",
    "# Named Entity Recognition (NER)\n",
    "for i, ent in enumerate(doc.ents):\n",
    "    print(f\"{i + 1}.) {ent.text}: {ent.label_}\")"
   ]
  },
  {
   "cell_type": "code",
   "execution_count": null,
   "metadata": {},
   "outputs": [],
   "source": []
  }
 ],
 "metadata": {
  "kernelspec": {
   "display_name": "Python 3",
   "language": "python",
   "name": "python3"
  },
  "language_info": {
   "codemirror_mode": {
    "name": "ipython",
    "version": 3
   },
   "file_extension": ".py",
   "mimetype": "text/x-python",
   "name": "python",
   "nbconvert_exporter": "python",
   "pygments_lexer": "ipython3",
   "version": "3.12.4"
  }
 },
 "nbformat": 4,
 "nbformat_minor": 2
}
